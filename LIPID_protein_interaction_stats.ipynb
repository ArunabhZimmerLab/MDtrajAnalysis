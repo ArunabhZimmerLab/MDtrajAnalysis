{
  "nbformat": 4,
  "nbformat_minor": 0,
  "metadata": {
    "colab": {
      "provenance": []
    },
    "kernelspec": {
      "name": "python3",
      "display_name": "Python 3"
    },
    "language_info": {
      "name": "python"
    }
  },
  "cells": [
    {
      "cell_type": "markdown",
      "source": [
        "# -*- coding: utf-8 -*-\n",
        "# Created by Arunabh Athreya, January 24, 2024\n",
        "\n",
        "# The script is created to perform the following functions:\n",
        "    1. Membrane proximity trajectory of the COM of protein w.r.t the lipid bilayer\n",
        "    2. contribution of individual residues in the protein-bilayer interaction\n",
        "    3. specificity of interaction of residue vs type of lipid.\n",
        "    4. magnitude of penetration into the bilayer at a global level.\n"
      ],
      "metadata": {
        "id": "BT_cCJExJL12"
      }
    },
    {
      "cell_type": "code",
      "source": [
        "from google.colab import drive\n",
        "import os\n",
        "\n",
        "# Mount Google Drive\n",
        "drive.mount('/content/drive')\n",
        "\n",
        "# Function to get the file path from the user\n",
        "def get_file_path():\n",
        "  while True:\n",
        "    file_path = input(\"Enter the path to your file in Google Drive (e.g., /content/drive/MyDrive/your_file.txt): \")\n",
        "    if os.path.exists(file_path):\n",
        "      return file_path\n",
        "    else:\n",
        "      print(\"File not found. Please enter a valid path.\")\n",
        "\n",
        "# Get the file path from the user\n",
        "file_path = get_file_path()\n",
        "\n",
        "# Now you can access the file using the file_path variable\n",
        "# For example, to read the file contents:\n",
        "with open(file_path, 'r') as f:\n",
        "  file_contents = f.read()\n",
        "  # Process file_contents"
      ],
      "metadata": {
        "id": "Nmbp8SJQnrlC"
      },
      "execution_count": null,
      "outputs": []
    },
    {
      "cell_type": "code",
      "source": [
        "b=input(\"\"\"enter the IDs of the lipids that were used in the simulation\n",
        "and is seen in the PDB trajectory. For example, \\n POPE,POPC,POPG,PMCL \\n input:\\n\"\"\")\n",
        "name=input(\"Enter filename:\\t\")"
      ],
      "metadata": {
        "id": "v0PU0TG6Hk2c"
      },
      "execution_count": null,
      "outputs": []
    },
    {
      "cell_type": "code",
      "source": [
        "import numpy as np\n",
        "import math\n",
        "from scipy import stats"
      ],
      "metadata": {
        "id": "cFLBA75kHlEu"
      },
      "execution_count": null,
      "outputs": []
    },
    {
      "cell_type": "code",
      "source": [
        "\"\"\"\n",
        "Block 1:\n",
        "    This block helps in identifying the residues in the protein molecule and adds\n",
        "    the coordinates of their Centre of Geometry (CoG) in a numpy array. Runs on\n",
        "    only the first frame before reaching breakpoint.\n",
        "\"\"\"\n",
        "reslist=[]  #listing all residues in the protein.\n",
        "prot_atoms=0\n",
        "lipid_atoms=0\n",
        "lipidcount=0\n",
        "nframes=0   #frames of trajectory\n",
        "content=open(str(name),'r').readlines()\n",
        "lipids=b.split(\",\")\n",
        "lipidlist=[]    #all residue numbers assigned to lipids\n",
        "for line in content:\n",
        "    if line.startswith(\"MODEL\"):\n",
        "        print(line)\n",
        "    elif line.startswith(\"ATOM\"):\n",
        "        if line[21:22] == \"A\":\n",
        "            prot_atoms=prot_atoms+1\n",
        "            if line[22:26].strip() not in reslist:\n",
        "                reslist.append(line[22:26].strip())\n",
        "        for a in lipids:\n",
        "            if a in line:\n",
        "                lipid_atoms=lipid_atoms+1\n",
        "                if line[22:26].strip() not in lipidlist:\n",
        "                    lipidlist.append(line[22:26].strip())\n",
        "    elif line.startswith(\"ENDMDL\"):\n",
        "        break\n",
        "#print(lipidlist)\n",
        "#print(len(lipidlist))\n",
        "#print('\\n'*3)\n",
        "#print(reslist)\n",
        "#print(len(reslist))\n",
        "print(\"Number of protein atoms are: \", prot_atoms,'\\n')\n",
        "print(\"number of lipid atoms are: \",lipid_atoms,'\\n')\n",
        "for line in content:\n",
        "    if line.startswith(\"MODEL\"):\n",
        "        nframes=nframes+1\n",
        "        print(\"processed frame no.\",nframes,'... \\n')"
      ],
      "metadata": {
        "id": "ixI96xSiHlO3"
      },
      "execution_count": null,
      "outputs": []
    },
    {
      "cell_type": "markdown",
      "source": [
        "\n",
        "\n",
        "    The arrays will have the following columns:\n",
        "    column    class\n",
        "    ---\n",
        "\n",
        "    0         frame no.\n",
        "    1         atom no.\n",
        "    2         x-coord\n",
        "    3         y-coord\n",
        "    4         z-coord\n",
        "    5         residue number\n",
        "    6         atom-ID\n",
        "    7         lipidtype\n",
        "    8         in case of lipids: whether its a phosphorus atom (1) or not (0) in lipid_array."
      ],
      "metadata": {
        "id": "Uj8posWhchZc"
      }
    },
    {
      "cell_type": "code",
      "source": [
        "prot_array=np.ndarray(shape=(nframes,prot_atoms,7),dtype=object)\n",
        "print(\"creating array in \"+str(prot_array.ndim)+\" dimensions for protein atoms.\")\n",
        "print(prot_array.shape)\n",
        "#print(prot_array.dtype)\n",
        "#print(prot_array)\n",
        "\n",
        "lipid_array=np.ndarray(shape=(nframes,lipid_atoms,9),dtype=object)\n",
        "print(\"creating array in \"+str(lipid_array.ndim)+\" dimensions for lipids.\")\n",
        "print(lipid_array.shape)\n",
        "#print(lipid_array.dtype)\n",
        "#print(lipid_array)"
      ],
      "metadata": {
        "id": "aZBZZbcAHzIs"
      },
      "execution_count": null,
      "outputs": []
    },
    {
      "cell_type": "markdown",
      "source": [
        "\n",
        "This block does the following:\n",
        "1.   Adds all protein atom coordinates to prot_array\n",
        "2.   Add all lipid atom coordinates to lipid_array\n",
        "3.   Add an additional information of whether a certain line in lipid array belonged to phosphorus atom.\n",
        "\n",
        "It also adds frame number for later purposes, when filtering the array for P\n",
        "atoms will reduce the dimensions of the array."
      ],
      "metadata": {
        "id": "aTLnFjU2cSF0"
      }
    },
    {
      "cell_type": "code",
      "source": [
        "for line in content:\n",
        "    if \"MODEL\" in line:\n",
        "        rcount = 0\n",
        "        lcount = 0\n",
        "        model=int(line[6:14].strip())\n",
        "        print(model)\n",
        "    if line.startswith(\"ATOM\"):\n",
        "        if line[22:26].strip() in reslist:\n",
        "            prot_array[model-1,rcount,0]=model\n",
        "            prot_array[model-1,rcount,1]=line[5:11].strip()\n",
        "            prot_array[model-1,rcount,2]=line[27:38].strip()\n",
        "            prot_array[model-1,rcount,3]=line[38:46].strip()\n",
        "            prot_array[model-1,rcount,4]=line[46:54].strip()\n",
        "            prot_array[model-1,rcount,5]=line[22:26].strip()\n",
        "            prot_array[model-1,rcount,6]=line[11:16].strip()\n",
        "#            print(prot_array[model-1,rcount])\n",
        "            rcount = rcount + 1\n",
        "        if line[22:26].strip() in lipidlist:\n",
        "            lipid_array[model-1,lcount,0]=model\n",
        "            lipid_array[model-1,lcount,1]=line[5:11].strip()\n",
        "            lipid_array[model-1,lcount,2]=line[27:38].strip()\n",
        "            lipid_array[model-1,lcount,3]=line[38:46].strip()\n",
        "            lipid_array[model-1,lcount,4]=line[46:54].strip()\n",
        "            lipid_array[model-1,lcount,5]=line[22:26].strip()\n",
        "            lipid_array[model-1,lcount,6]=line[11:16].strip()\n",
        "            if 'P' in line[12:17].strip():  #adds a marker for a line of phosphorus\n",
        "                lipid_array[model-1,lcount,8]=True\n",
        "            for lipid in lipids:\n",
        "                if lipid in line:\n",
        "                    lipid_array[model-1,lcount,7]=lipid\n",
        "            lcount = lcount + 1\n",
        "print(prot_array)\n",
        "print(lipid_array)"
      ],
      "metadata": {
        "id": "ZusM6zTBH4Bc"
      },
      "execution_count": null,
      "outputs": []
    },
    {
      "cell_type": "markdown",
      "source": [
        "There are two functions of this block. The first is to determine the limits of the bilayer along the Z-axis. For this the path is:\n",
        "\n",
        "1.   Find the consensus Z axis min and max\n",
        "2.   Repeat for every frame\n",
        "\n",
        "This helps in initiating further functions that calculate protein-lipid interacts only in frames where any atom of the protein is near the boundary of the lipid bilayer, saving computational time.\n",
        "\n",
        "The second part of the code block generates a difference matrix for distance between every protein atom to every lipid atom in every frame.\n",
        "\n",
        "\n",
        "\n",
        "\n"
      ],
      "metadata": {
        "id": "qN6xjuYebhBk"
      }
    },
    {
      "source": [
        "\"\"\"Iterate over all frames to find interacting atoms (between protein and lipid,\n",
        "not lipid-lipid or intraprotein) to make an empty list to cumulatively store\n",
        "diff_matrix (difference matrix) for each frame.\n",
        "\"\"\"\n",
        "# STEP-BY-STEP EXPLANATION:\n",
        "# 1. Reading individual frames:\n",
        "all_diff_matrices = []\n",
        "lipid_count = {}\n",
        "# all_diff_matrices: An empty list to store distance matrices (explained later) for each frame.\n",
        "# lipid_count: An empty dictionary to store the count of interactions for each lipid type.\n",
        "for frame in range(1,nframes+1):\n",
        "    print(f\"Processing frame {frame}...\")\n",
        "    diff_filter = [] # a subarray for protein atoms that come close to the bilayer\n",
        "    # Create a mask for the current frame:\n",
        "    bilayer_mask = lipid_array[:,:,0] == frame\n",
        "    protein_mask = prot_array[:,:,0] == frame\n",
        "    # Apply the mask to create the subarray\n",
        "    lipid_subarray = lipid_array[bilayer_mask] #isolated all lipid data for one frame\n",
        "    protein_subarray = prot_array[protein_mask] #isolated all protein data for one frame\n",
        "    zcoord = lipid_subarray[:,4].astype(float) #get z-coordinates list for lipid array\n",
        "    zmax = np.max(zcoord)\n",
        "    zmin = np.min(zcoord)\n",
        "    print(f\"ZMax and Zmin are: '{zmax}','{zmin}'\")\n",
        "    # checking for atoms in the protein data whose either (Zcoord-zmin) or (Zcoord-zmax) <4:\n",
        "    diffa=np.abs(protein_subarray[:,4].astype(float)-zmin) # Here Zcoordinate of a protein atom\n",
        "    diffb=np.abs(protein_subarray[:,4].astype(float)-zmax) # is the 5th column in protein_subarray\n",
        "    diff_filter=protein_subarray[np.logical_or(diffa < 4, diffb < 4)]\n",
        "    print(f\"There are {len(diff_filter)} protein atoms close to the bilayer in frame {frame}.\")\n",
        "    #print(diffb_filter)\n",
        "    # Print the subarray for the current value\n",
        "    #print(f\"Frame '{frame}' protein:\")\n",
        "    #print(protein_subarray)\n",
        "    print(\"-\"*20)\n",
        "    #print(f\"Frame '{frame}' lipids:\")\n",
        "    #print(lipid_subarray)\n",
        "    #print(f\"The bilayer lies between '{zmin}' and '{zmax}'\")\n",
        "    if len(diff_filter) > 0:\n",
        "        px = diff_filter[:, 2].astype(float) #Protein dataset's 3rd column, i.e., the X-coord.\n",
        "        py = diff_filter[:, 3].astype(float) #Y-coord\n",
        "        pz = diff_filter[:, 4].astype(float) #Z-coord\n",
        "        lx = lipid_subarray[:, 2].astype(float) #lipid atom's X-coord\n",
        "        ly = lipid_subarray[:, 3].astype(float) #lipid atom's Y-coord\n",
        "        lz = lipid_subarray[:, 4].astype(float) #lipid atom's Z-coord\n",
        "        diff_matrix = np.sqrt(np.power(px[:, np.newaxis] - lx, 2) +\n",
        "                      np.power(py[:, np.newaxis] - ly, 2) +\n",
        "                      np.power(pz[:, np.newaxis] - lz, 2))\n",
        "        print(f\"diff_matrix is: '{diff_matrix}'\")\n",
        "        # This will fetch the indices where diff_matrix values are <4Å\n",
        "        row_indices, col_indices = np.where(diff_matrix < 4)\n",
        "        print(f\"row_indices are: '{row_indices}'\")\n",
        "        print(f\"col_indices are: '{col_indices}'\")\n",
        "        # To extract the corresponding residue numbers from protein_array:\n",
        "        prot_res_no = diff_filter[row_indices,5]\n",
        "        lipi_res_no = lipid_subarray[col_indices,5]\n",
        "        for row,col in zip(row_indices, col_indices):\n",
        "            print(f\"The interactions are: Residue {diff_filter[row,5]} and {lipid_subarray[col,7]} whose atoms {diff_filter[row,6]} and {lipid_subarray[col,6]} respectively are {diff_matrix[row, col]} Å apart.\")\n",
        "        print(prot_res_no,lipi_res_no)\n",
        "        print(diff_matrix.shape) #should be (x,y), where x= number of protein atoms that\n",
        "        # come close to bilayer, and y= total number of lipid atoms\n",
        "        \"\"\"\n",
        "        To find which lipids interact the most:\n",
        "          This will take the count of number of instances in the diff_matrix with\n",
        "          values less than 4Å. Then it will ask to what kind of lipid do these instances\n",
        "          belong to, by calling out lipid_subarray[col_indices,7] and appending it\n",
        "          to a list, and then counting each lipidtype.\n",
        "        \"\"\"\n",
        "        for col in col_indices:\n",
        "            lipid_type = lipid_subarray[col, 7]\n",
        "            if lipid_type in lipid_count:\n",
        "                lipid_count[lipid_type] += 1\n",
        "            else:\n",
        "                lipid_count[lipid_type] = 1\n",
        "    #print lipid counts here for each lipid type.\n",
        "    print(f\"cumulative lipid counts till frame {frame}:\")\n",
        "    for lipid_type, count in lipid_count.items():\n",
        "        print(f\"{lipid_type}: {count}\")\n",
        "    lipid_count.clear()\n",
        "    all_diff_matrices.append(diff_matrix)\n",
        "    print(\"=\" * 20)  # Separator between frames"
      ],
      "cell_type": "code",
      "metadata": {
        "id": "6a247XAFFRJY"
      },
      "execution_count": null,
      "outputs": []
    }
  ]
}
